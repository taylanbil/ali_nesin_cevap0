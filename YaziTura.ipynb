{
 "cells": [
  {
   "cell_type": "code",
   "execution_count": 8,
   "metadata": {
    "collapsed": true
   },
   "outputs": [],
   "source": [
    "import numpy as np\n",
    "\n",
    "\n",
    "def longest_seq(x):\n",
    "    s_max, s = 0, 0\n",
    "    for i in x:\n",
    "        s = s+1 if i else 0\n",
    "        if s > s_max:\n",
    "            s_max = s\n",
    "    return s_max\n",
    "\n",
    "\n",
    "def oyun(n=250):\n",
    "    x = np.random.randint(0, 2, n)\n",
    "    m = longest_seq(x)\n",
    "    return x, m"
   ]
  },
  {
   "cell_type": "code",
   "execution_count": 12,
   "metadata": {},
   "outputs": [
    {
     "name": "stdout",
     "output_type": "stream",
     "text": [
      "(array([1, 1, 1, 1, 1, 1, 1, 1, 0, 0, 1, 1, 1, 0, 1, 1, 1, 0, 0, 0]), 8)\n",
      "(array([0, 0, 1, 0, 1, 0, 0, 1, 1, 1, 0, 1, 0, 0, 0, 1, 0, 1, 0, 1]), 3)\n",
      "(array([1, 1, 1, 1, 0, 1, 0, 1, 0, 0, 1, 0, 0, 0, 1, 0, 0, 0, 1, 1]), 4)\n",
      "(array([1, 0, 1, 0, 1, 1, 0, 0, 0, 0, 0, 1, 1, 1, 0, 1, 0, 0, 0, 1]), 3)\n"
     ]
    }
   ],
   "source": [
    "# Sanity check\n",
    "for _ in range(4):\n",
    "    print(oyun(20))"
   ]
  },
  {
   "cell_type": "code",
   "execution_count": 15,
   "metadata": {},
   "outputs": [
    {
     "name": "stdout",
     "output_type": "stream",
     "text": [
      "3.730606\n"
     ]
    }
   ],
   "source": [
    "N_TRIALS = 10**6\n",
    "s = 0\n",
    "for _ in range(N_TRIALS):\n",
    "    x, m = oyun()\n",
    "    s += m\n",
    "print(s/N_TRIALS)"
   ]
  },
  {
   "cell_type": "code",
   "execution_count": null,
   "metadata": {
    "collapsed": true
   },
   "outputs": [],
   "source": []
  }
 ],
 "metadata": {
  "kernelspec": {
   "display_name": "Python 3",
   "language": "python",
   "name": "python3"
  },
  "language_info": {
   "codemirror_mode": {
    "name": "ipython",
    "version": 3
   },
   "file_extension": ".py",
   "mimetype": "text/x-python",
   "name": "python",
   "nbconvert_exporter": "python",
   "pygments_lexer": "ipython3",
   "version": "3.6.1"
  }
 },
 "nbformat": 4,
 "nbformat_minor": 2
}
